{
  "nbformat": 4,
  "nbformat_minor": 0,
  "metadata": {
    "colab": {
      "provenance": [],
      "collapsed_sections": []
    },
    "kernelspec": {
      "name": "python3",
      "display_name": "Python 3"
    },
    "language_info": {
      "name": "python"
    },
    "widgets": {
      "application/vnd.jupyter.widget-state+json": {
        "1e9f1184180f47b38cbdce5afbb8c803": {
          "model_module": "@jupyter-widgets/controls",
          "model_name": "HBoxModel",
          "model_module_version": "1.5.0",
          "state": {
            "_dom_classes": [],
            "_model_module": "@jupyter-widgets/controls",
            "_model_module_version": "1.5.0",
            "_model_name": "HBoxModel",
            "_view_count": null,
            "_view_module": "@jupyter-widgets/controls",
            "_view_module_version": "1.5.0",
            "_view_name": "HBoxView",
            "box_style": "",
            "children": [
              "IPY_MODEL_196e6e425585485ab4316e2b46dfaa17",
              "IPY_MODEL_08ba012539c84b9faf179ae04753fa24",
              "IPY_MODEL_e3bfeefbfe0440ef9a8d0c41c8a2a4c2"
            ],
            "layout": "IPY_MODEL_24bc5d399a964f0c9c25d65e29a06120"
          }
        },
        "196e6e425585485ab4316e2b46dfaa17": {
          "model_module": "@jupyter-widgets/controls",
          "model_name": "HTMLModel",
          "model_module_version": "1.5.0",
          "state": {
            "_dom_classes": [],
            "_model_module": "@jupyter-widgets/controls",
            "_model_module_version": "1.5.0",
            "_model_name": "HTMLModel",
            "_view_count": null,
            "_view_module": "@jupyter-widgets/controls",
            "_view_module_version": "1.5.0",
            "_view_name": "HTMLView",
            "description": "",
            "description_tooltip": null,
            "layout": "IPY_MODEL_b9bf73a2add442fc89041e047f59e381",
            "placeholder": "​",
            "style": "IPY_MODEL_bd632a3a2b204e1c9e3eb8f99707292a",
            "value": "Downloading: 100%"
          }
        },
        "08ba012539c84b9faf179ae04753fa24": {
          "model_module": "@jupyter-widgets/controls",
          "model_name": "FloatProgressModel",
          "model_module_version": "1.5.0",
          "state": {
            "_dom_classes": [],
            "_model_module": "@jupyter-widgets/controls",
            "_model_module_version": "1.5.0",
            "_model_name": "FloatProgressModel",
            "_view_count": null,
            "_view_module": "@jupyter-widgets/controls",
            "_view_module_version": "1.5.0",
            "_view_name": "ProgressView",
            "bar_style": "success",
            "description": "",
            "description_tooltip": null,
            "layout": "IPY_MODEL_3682df45752544ca83ea96e88b3e6b8f",
            "max": 231508,
            "min": 0,
            "orientation": "horizontal",
            "style": "IPY_MODEL_3b3ebeebca624ff891c602e49373f5ca",
            "value": 231508
          }
        },
        "e3bfeefbfe0440ef9a8d0c41c8a2a4c2": {
          "model_module": "@jupyter-widgets/controls",
          "model_name": "HTMLModel",
          "model_module_version": "1.5.0",
          "state": {
            "_dom_classes": [],
            "_model_module": "@jupyter-widgets/controls",
            "_model_module_version": "1.5.0",
            "_model_name": "HTMLModel",
            "_view_count": null,
            "_view_module": "@jupyter-widgets/controls",
            "_view_module_version": "1.5.0",
            "_view_name": "HTMLView",
            "description": "",
            "description_tooltip": null,
            "layout": "IPY_MODEL_5e3c89dd5c3d4cf39c4a7f5f2a5465f4",
            "placeholder": "​",
            "style": "IPY_MODEL_9dcf11ece4634c5a977c070007fed2ad",
            "value": " 232k/232k [00:00&lt;00:00, 850kB/s]"
          }
        },
        "24bc5d399a964f0c9c25d65e29a06120": {
          "model_module": "@jupyter-widgets/base",
          "model_name": "LayoutModel",
          "model_module_version": "1.2.0",
          "state": {
            "_model_module": "@jupyter-widgets/base",
            "_model_module_version": "1.2.0",
            "_model_name": "LayoutModel",
            "_view_count": null,
            "_view_module": "@jupyter-widgets/base",
            "_view_module_version": "1.2.0",
            "_view_name": "LayoutView",
            "align_content": null,
            "align_items": null,
            "align_self": null,
            "border": null,
            "bottom": null,
            "display": null,
            "flex": null,
            "flex_flow": null,
            "grid_area": null,
            "grid_auto_columns": null,
            "grid_auto_flow": null,
            "grid_auto_rows": null,
            "grid_column": null,
            "grid_gap": null,
            "grid_row": null,
            "grid_template_areas": null,
            "grid_template_columns": null,
            "grid_template_rows": null,
            "height": null,
            "justify_content": null,
            "justify_items": null,
            "left": null,
            "margin": null,
            "max_height": null,
            "max_width": null,
            "min_height": null,
            "min_width": null,
            "object_fit": null,
            "object_position": null,
            "order": null,
            "overflow": null,
            "overflow_x": null,
            "overflow_y": null,
            "padding": null,
            "right": null,
            "top": null,
            "visibility": null,
            "width": null
          }
        },
        "b9bf73a2add442fc89041e047f59e381": {
          "model_module": "@jupyter-widgets/base",
          "model_name": "LayoutModel",
          "model_module_version": "1.2.0",
          "state": {
            "_model_module": "@jupyter-widgets/base",
            "_model_module_version": "1.2.0",
            "_model_name": "LayoutModel",
            "_view_count": null,
            "_view_module": "@jupyter-widgets/base",
            "_view_module_version": "1.2.0",
            "_view_name": "LayoutView",
            "align_content": null,
            "align_items": null,
            "align_self": null,
            "border": null,
            "bottom": null,
            "display": null,
            "flex": null,
            "flex_flow": null,
            "grid_area": null,
            "grid_auto_columns": null,
            "grid_auto_flow": null,
            "grid_auto_rows": null,
            "grid_column": null,
            "grid_gap": null,
            "grid_row": null,
            "grid_template_areas": null,
            "grid_template_columns": null,
            "grid_template_rows": null,
            "height": null,
            "justify_content": null,
            "justify_items": null,
            "left": null,
            "margin": null,
            "max_height": null,
            "max_width": null,
            "min_height": null,
            "min_width": null,
            "object_fit": null,
            "object_position": null,
            "order": null,
            "overflow": null,
            "overflow_x": null,
            "overflow_y": null,
            "padding": null,
            "right": null,
            "top": null,
            "visibility": null,
            "width": null
          }
        },
        "bd632a3a2b204e1c9e3eb8f99707292a": {
          "model_module": "@jupyter-widgets/controls",
          "model_name": "DescriptionStyleModel",
          "model_module_version": "1.5.0",
          "state": {
            "_model_module": "@jupyter-widgets/controls",
            "_model_module_version": "1.5.0",
            "_model_name": "DescriptionStyleModel",
            "_view_count": null,
            "_view_module": "@jupyter-widgets/base",
            "_view_module_version": "1.2.0",
            "_view_name": "StyleView",
            "description_width": ""
          }
        },
        "3682df45752544ca83ea96e88b3e6b8f": {
          "model_module": "@jupyter-widgets/base",
          "model_name": "LayoutModel",
          "model_module_version": "1.2.0",
          "state": {
            "_model_module": "@jupyter-widgets/base",
            "_model_module_version": "1.2.0",
            "_model_name": "LayoutModel",
            "_view_count": null,
            "_view_module": "@jupyter-widgets/base",
            "_view_module_version": "1.2.0",
            "_view_name": "LayoutView",
            "align_content": null,
            "align_items": null,
            "align_self": null,
            "border": null,
            "bottom": null,
            "display": null,
            "flex": null,
            "flex_flow": null,
            "grid_area": null,
            "grid_auto_columns": null,
            "grid_auto_flow": null,
            "grid_auto_rows": null,
            "grid_column": null,
            "grid_gap": null,
            "grid_row": null,
            "grid_template_areas": null,
            "grid_template_columns": null,
            "grid_template_rows": null,
            "height": null,
            "justify_content": null,
            "justify_items": null,
            "left": null,
            "margin": null,
            "max_height": null,
            "max_width": null,
            "min_height": null,
            "min_width": null,
            "object_fit": null,
            "object_position": null,
            "order": null,
            "overflow": null,
            "overflow_x": null,
            "overflow_y": null,
            "padding": null,
            "right": null,
            "top": null,
            "visibility": null,
            "width": null
          }
        },
        "3b3ebeebca624ff891c602e49373f5ca": {
          "model_module": "@jupyter-widgets/controls",
          "model_name": "ProgressStyleModel",
          "model_module_version": "1.5.0",
          "state": {
            "_model_module": "@jupyter-widgets/controls",
            "_model_module_version": "1.5.0",
            "_model_name": "ProgressStyleModel",
            "_view_count": null,
            "_view_module": "@jupyter-widgets/base",
            "_view_module_version": "1.2.0",
            "_view_name": "StyleView",
            "bar_color": null,
            "description_width": ""
          }
        },
        "5e3c89dd5c3d4cf39c4a7f5f2a5465f4": {
          "model_module": "@jupyter-widgets/base",
          "model_name": "LayoutModel",
          "model_module_version": "1.2.0",
          "state": {
            "_model_module": "@jupyter-widgets/base",
            "_model_module_version": "1.2.0",
            "_model_name": "LayoutModel",
            "_view_count": null,
            "_view_module": "@jupyter-widgets/base",
            "_view_module_version": "1.2.0",
            "_view_name": "LayoutView",
            "align_content": null,
            "align_items": null,
            "align_self": null,
            "border": null,
            "bottom": null,
            "display": null,
            "flex": null,
            "flex_flow": null,
            "grid_area": null,
            "grid_auto_columns": null,
            "grid_auto_flow": null,
            "grid_auto_rows": null,
            "grid_column": null,
            "grid_gap": null,
            "grid_row": null,
            "grid_template_areas": null,
            "grid_template_columns": null,
            "grid_template_rows": null,
            "height": null,
            "justify_content": null,
            "justify_items": null,
            "left": null,
            "margin": null,
            "max_height": null,
            "max_width": null,
            "min_height": null,
            "min_width": null,
            "object_fit": null,
            "object_position": null,
            "order": null,
            "overflow": null,
            "overflow_x": null,
            "overflow_y": null,
            "padding": null,
            "right": null,
            "top": null,
            "visibility": null,
            "width": null
          }
        },
        "9dcf11ece4634c5a977c070007fed2ad": {
          "model_module": "@jupyter-widgets/controls",
          "model_name": "DescriptionStyleModel",
          "model_module_version": "1.5.0",
          "state": {
            "_model_module": "@jupyter-widgets/controls",
            "_model_module_version": "1.5.0",
            "_model_name": "DescriptionStyleModel",
            "_view_count": null,
            "_view_module": "@jupyter-widgets/base",
            "_view_module_version": "1.2.0",
            "_view_name": "StyleView",
            "description_width": ""
          }
        },
        "ca787a12bb414df18d05bbd1f3e992e4": {
          "model_module": "@jupyter-widgets/controls",
          "model_name": "HBoxModel",
          "model_module_version": "1.5.0",
          "state": {
            "_dom_classes": [],
            "_model_module": "@jupyter-widgets/controls",
            "_model_module_version": "1.5.0",
            "_model_name": "HBoxModel",
            "_view_count": null,
            "_view_module": "@jupyter-widgets/controls",
            "_view_module_version": "1.5.0",
            "_view_name": "HBoxView",
            "box_style": "",
            "children": [
              "IPY_MODEL_c59de33dea394b89bd73fa6c7ae13ac7",
              "IPY_MODEL_0bee826e4d6e47a9b3f04bb56d4d381e",
              "IPY_MODEL_8796eaf3b74f4fc3a19b747ddb0eda0d"
            ],
            "layout": "IPY_MODEL_050e5ad0f6794cc8b2a4c098125a57e7"
          }
        },
        "c59de33dea394b89bd73fa6c7ae13ac7": {
          "model_module": "@jupyter-widgets/controls",
          "model_name": "HTMLModel",
          "model_module_version": "1.5.0",
          "state": {
            "_dom_classes": [],
            "_model_module": "@jupyter-widgets/controls",
            "_model_module_version": "1.5.0",
            "_model_name": "HTMLModel",
            "_view_count": null,
            "_view_module": "@jupyter-widgets/controls",
            "_view_module_version": "1.5.0",
            "_view_name": "HTMLView",
            "description": "",
            "description_tooltip": null,
            "layout": "IPY_MODEL_1af7ff6ccd494a6f9e8ed33320b270b0",
            "placeholder": "​",
            "style": "IPY_MODEL_657bec67c015475e91d3b2d64e5a6893",
            "value": "Downloading: 100%"
          }
        },
        "0bee826e4d6e47a9b3f04bb56d4d381e": {
          "model_module": "@jupyter-widgets/controls",
          "model_name": "FloatProgressModel",
          "model_module_version": "1.5.0",
          "state": {
            "_dom_classes": [],
            "_model_module": "@jupyter-widgets/controls",
            "_model_module_version": "1.5.0",
            "_model_name": "FloatProgressModel",
            "_view_count": null,
            "_view_module": "@jupyter-widgets/controls",
            "_view_module_version": "1.5.0",
            "_view_name": "ProgressView",
            "bar_style": "success",
            "description": "",
            "description_tooltip": null,
            "layout": "IPY_MODEL_20a451d159b745b19bf2e6ec98d05db6",
            "max": 28,
            "min": 0,
            "orientation": "horizontal",
            "style": "IPY_MODEL_5194d6e4b0b149b98e61e146bfcf9bab",
            "value": 28
          }
        },
        "8796eaf3b74f4fc3a19b747ddb0eda0d": {
          "model_module": "@jupyter-widgets/controls",
          "model_name": "HTMLModel",
          "model_module_version": "1.5.0",
          "state": {
            "_dom_classes": [],
            "_model_module": "@jupyter-widgets/controls",
            "_model_module_version": "1.5.0",
            "_model_name": "HTMLModel",
            "_view_count": null,
            "_view_module": "@jupyter-widgets/controls",
            "_view_module_version": "1.5.0",
            "_view_name": "HTMLView",
            "description": "",
            "description_tooltip": null,
            "layout": "IPY_MODEL_0c669b1358434e8fa3db9d9e2a0d77ff",
            "placeholder": "​",
            "style": "IPY_MODEL_4a98196caa5944d0aa493f76c1c4c474",
            "value": " 28.0/28.0 [00:00&lt;00:00, 467B/s]"
          }
        },
        "050e5ad0f6794cc8b2a4c098125a57e7": {
          "model_module": "@jupyter-widgets/base",
          "model_name": "LayoutModel",
          "model_module_version": "1.2.0",
          "state": {
            "_model_module": "@jupyter-widgets/base",
            "_model_module_version": "1.2.0",
            "_model_name": "LayoutModel",
            "_view_count": null,
            "_view_module": "@jupyter-widgets/base",
            "_view_module_version": "1.2.0",
            "_view_name": "LayoutView",
            "align_content": null,
            "align_items": null,
            "align_self": null,
            "border": null,
            "bottom": null,
            "display": null,
            "flex": null,
            "flex_flow": null,
            "grid_area": null,
            "grid_auto_columns": null,
            "grid_auto_flow": null,
            "grid_auto_rows": null,
            "grid_column": null,
            "grid_gap": null,
            "grid_row": null,
            "grid_template_areas": null,
            "grid_template_columns": null,
            "grid_template_rows": null,
            "height": null,
            "justify_content": null,
            "justify_items": null,
            "left": null,
            "margin": null,
            "max_height": null,
            "max_width": null,
            "min_height": null,
            "min_width": null,
            "object_fit": null,
            "object_position": null,
            "order": null,
            "overflow": null,
            "overflow_x": null,
            "overflow_y": null,
            "padding": null,
            "right": null,
            "top": null,
            "visibility": null,
            "width": null
          }
        },
        "1af7ff6ccd494a6f9e8ed33320b270b0": {
          "model_module": "@jupyter-widgets/base",
          "model_name": "LayoutModel",
          "model_module_version": "1.2.0",
          "state": {
            "_model_module": "@jupyter-widgets/base",
            "_model_module_version": "1.2.0",
            "_model_name": "LayoutModel",
            "_view_count": null,
            "_view_module": "@jupyter-widgets/base",
            "_view_module_version": "1.2.0",
            "_view_name": "LayoutView",
            "align_content": null,
            "align_items": null,
            "align_self": null,
            "border": null,
            "bottom": null,
            "display": null,
            "flex": null,
            "flex_flow": null,
            "grid_area": null,
            "grid_auto_columns": null,
            "grid_auto_flow": null,
            "grid_auto_rows": null,
            "grid_column": null,
            "grid_gap": null,
            "grid_row": null,
            "grid_template_areas": null,
            "grid_template_columns": null,
            "grid_template_rows": null,
            "height": null,
            "justify_content": null,
            "justify_items": null,
            "left": null,
            "margin": null,
            "max_height": null,
            "max_width": null,
            "min_height": null,
            "min_width": null,
            "object_fit": null,
            "object_position": null,
            "order": null,
            "overflow": null,
            "overflow_x": null,
            "overflow_y": null,
            "padding": null,
            "right": null,
            "top": null,
            "visibility": null,
            "width": null
          }
        },
        "657bec67c015475e91d3b2d64e5a6893": {
          "model_module": "@jupyter-widgets/controls",
          "model_name": "DescriptionStyleModel",
          "model_module_version": "1.5.0",
          "state": {
            "_model_module": "@jupyter-widgets/controls",
            "_model_module_version": "1.5.0",
            "_model_name": "DescriptionStyleModel",
            "_view_count": null,
            "_view_module": "@jupyter-widgets/base",
            "_view_module_version": "1.2.0",
            "_view_name": "StyleView",
            "description_width": ""
          }
        },
        "20a451d159b745b19bf2e6ec98d05db6": {
          "model_module": "@jupyter-widgets/base",
          "model_name": "LayoutModel",
          "model_module_version": "1.2.0",
          "state": {
            "_model_module": "@jupyter-widgets/base",
            "_model_module_version": "1.2.0",
            "_model_name": "LayoutModel",
            "_view_count": null,
            "_view_module": "@jupyter-widgets/base",
            "_view_module_version": "1.2.0",
            "_view_name": "LayoutView",
            "align_content": null,
            "align_items": null,
            "align_self": null,
            "border": null,
            "bottom": null,
            "display": null,
            "flex": null,
            "flex_flow": null,
            "grid_area": null,
            "grid_auto_columns": null,
            "grid_auto_flow": null,
            "grid_auto_rows": null,
            "grid_column": null,
            "grid_gap": null,
            "grid_row": null,
            "grid_template_areas": null,
            "grid_template_columns": null,
            "grid_template_rows": null,
            "height": null,
            "justify_content": null,
            "justify_items": null,
            "left": null,
            "margin": null,
            "max_height": null,
            "max_width": null,
            "min_height": null,
            "min_width": null,
            "object_fit": null,
            "object_position": null,
            "order": null,
            "overflow": null,
            "overflow_x": null,
            "overflow_y": null,
            "padding": null,
            "right": null,
            "top": null,
            "visibility": null,
            "width": null
          }
        },
        "5194d6e4b0b149b98e61e146bfcf9bab": {
          "model_module": "@jupyter-widgets/controls",
          "model_name": "ProgressStyleModel",
          "model_module_version": "1.5.0",
          "state": {
            "_model_module": "@jupyter-widgets/controls",
            "_model_module_version": "1.5.0",
            "_model_name": "ProgressStyleModel",
            "_view_count": null,
            "_view_module": "@jupyter-widgets/base",
            "_view_module_version": "1.2.0",
            "_view_name": "StyleView",
            "bar_color": null,
            "description_width": ""
          }
        },
        "0c669b1358434e8fa3db9d9e2a0d77ff": {
          "model_module": "@jupyter-widgets/base",
          "model_name": "LayoutModel",
          "model_module_version": "1.2.0",
          "state": {
            "_model_module": "@jupyter-widgets/base",
            "_model_module_version": "1.2.0",
            "_model_name": "LayoutModel",
            "_view_count": null,
            "_view_module": "@jupyter-widgets/base",
            "_view_module_version": "1.2.0",
            "_view_name": "LayoutView",
            "align_content": null,
            "align_items": null,
            "align_self": null,
            "border": null,
            "bottom": null,
            "display": null,
            "flex": null,
            "flex_flow": null,
            "grid_area": null,
            "grid_auto_columns": null,
            "grid_auto_flow": null,
            "grid_auto_rows": null,
            "grid_column": null,
            "grid_gap": null,
            "grid_row": null,
            "grid_template_areas": null,
            "grid_template_columns": null,
            "grid_template_rows": null,
            "height": null,
            "justify_content": null,
            "justify_items": null,
            "left": null,
            "margin": null,
            "max_height": null,
            "max_width": null,
            "min_height": null,
            "min_width": null,
            "object_fit": null,
            "object_position": null,
            "order": null,
            "overflow": null,
            "overflow_x": null,
            "overflow_y": null,
            "padding": null,
            "right": null,
            "top": null,
            "visibility": null,
            "width": null
          }
        },
        "4a98196caa5944d0aa493f76c1c4c474": {
          "model_module": "@jupyter-widgets/controls",
          "model_name": "DescriptionStyleModel",
          "model_module_version": "1.5.0",
          "state": {
            "_model_module": "@jupyter-widgets/controls",
            "_model_module_version": "1.5.0",
            "_model_name": "DescriptionStyleModel",
            "_view_count": null,
            "_view_module": "@jupyter-widgets/base",
            "_view_module_version": "1.2.0",
            "_view_name": "StyleView",
            "description_width": ""
          }
        }
      }
    }
  },
  "cells": [
    {
      "cell_type": "markdown",
      "source": [
        " **#Name: Priyanka Kumari**\n",
        "\n"
      ],
      "metadata": {
        "id": "f2-8KmQoYZJ_"
      }
    },
    {
      "cell_type": "markdown",
      "source": [
        "***About me in one line: Always trying to create impact using technology***"
      ],
      "metadata": {
        "id": "XwESrazBHe6t"
      }
    },
    {
      "cell_type": "markdown",
      "source": [
        "# **TLMC FELLOWSHIP (NLP TASK)**"
      ],
      "metadata": {
        "id": "9uaNjr7cH2JL"
      }
    },
    {
      "cell_type": "markdown",
      "source": [
        "**Algorithm Used: BERT (Bidirectional Encoder Representations from Transformers)**\n",
        "\n"
      ],
      "metadata": {
        "id": "1ErXS_lA7z1n"
      }
    },
    {
      "cell_type": "markdown",
      "source": [
        "***BERT is based on the Transformer architecture***"
      ],
      "metadata": {
        "id": "l560WcNcF8cK"
      }
    },
    {
      "cell_type": "markdown",
      "source": [
        " **ABOUT BERT:** Bidirectional Encoder Representations from Transformers is known as BERT. It is intended to jointly condition on both left and right context to pre-train deep bidirectional representations from unlabeled text. With just one additional output layer, the pre-trained BERT model can be improved to produce cutting-edge models for a variety of NLP tasks."
      ],
      "metadata": {
        "id": "Ah_iC5yaFLho"
      }
    },
    {
      "cell_type": "code",
      "source": [
        "!pip install transformers"
      ],
      "metadata": {
        "colab": {
          "base_uri": "https://localhost:8080/"
        },
        "id": "CaAoZoUDhUuw",
        "outputId": "237b111d-0497-46cd-fb4d-223b288d89ac"
      },
      "execution_count": 2,
      "outputs": [
        {
          "output_type": "stream",
          "name": "stdout",
          "text": [
            "Looking in indexes: https://pypi.org/simple, https://us-python.pkg.dev/colab-wheels/public/simple/\n",
            "Collecting transformers\n",
            "  Downloading transformers-4.22.2-py3-none-any.whl (4.9 MB)\n",
            "\u001b[K     |████████████████████████████████| 4.9 MB 10.2 MB/s \n",
            "\u001b[?25hCollecting huggingface-hub<1.0,>=0.9.0\n",
            "  Downloading huggingface_hub-0.9.1-py3-none-any.whl (120 kB)\n",
            "\u001b[K     |████████████████████████████████| 120 kB 50.4 MB/s \n",
            "\u001b[?25hRequirement already satisfied: importlib-metadata in /usr/local/lib/python3.7/dist-packages (from transformers) (4.12.0)\n",
            "Requirement already satisfied: numpy>=1.17 in /usr/local/lib/python3.7/dist-packages (from transformers) (1.21.6)\n",
            "Requirement already satisfied: tqdm>=4.27 in /usr/local/lib/python3.7/dist-packages (from transformers) (4.64.1)\n",
            "Requirement already satisfied: requests in /usr/local/lib/python3.7/dist-packages (from transformers) (2.23.0)\n",
            "Requirement already satisfied: regex!=2019.12.17 in /usr/local/lib/python3.7/dist-packages (from transformers) (2022.6.2)\n",
            "Requirement already satisfied: filelock in /usr/local/lib/python3.7/dist-packages (from transformers) (3.8.0)\n",
            "Collecting tokenizers!=0.11.3,<0.13,>=0.11.1\n",
            "  Downloading tokenizers-0.12.1-cp37-cp37m-manylinux_2_12_x86_64.manylinux2010_x86_64.whl (6.6 MB)\n",
            "\u001b[K     |████████████████████████████████| 6.6 MB 49.4 MB/s \n",
            "\u001b[?25hRequirement already satisfied: packaging>=20.0 in /usr/local/lib/python3.7/dist-packages (from transformers) (21.3)\n",
            "Requirement already satisfied: pyyaml>=5.1 in /usr/local/lib/python3.7/dist-packages (from transformers) (6.0)\n",
            "Requirement already satisfied: typing-extensions>=3.7.4.3 in /usr/local/lib/python3.7/dist-packages (from huggingface-hub<1.0,>=0.9.0->transformers) (4.1.1)\n",
            "Requirement already satisfied: pyparsing!=3.0.5,>=2.0.2 in /usr/local/lib/python3.7/dist-packages (from packaging>=20.0->transformers) (3.0.9)\n",
            "Requirement already satisfied: zipp>=0.5 in /usr/local/lib/python3.7/dist-packages (from importlib-metadata->transformers) (3.8.1)\n",
            "Requirement already satisfied: certifi>=2017.4.17 in /usr/local/lib/python3.7/dist-packages (from requests->transformers) (2022.6.15)\n",
            "Requirement already satisfied: idna<3,>=2.5 in /usr/local/lib/python3.7/dist-packages (from requests->transformers) (2.10)\n",
            "Requirement already satisfied: urllib3!=1.25.0,!=1.25.1,<1.26,>=1.21.1 in /usr/local/lib/python3.7/dist-packages (from requests->transformers) (1.24.3)\n",
            "Requirement already satisfied: chardet<4,>=3.0.2 in /usr/local/lib/python3.7/dist-packages (from requests->transformers) (3.0.4)\n",
            "Installing collected packages: tokenizers, huggingface-hub, transformers\n",
            "Successfully installed huggingface-hub-0.9.1 tokenizers-0.12.1 transformers-4.22.2\n"
          ]
        }
      ]
    },
    {
      "cell_type": "code",
      "source": [
        "import torch\n",
        "import pandas as pd\n",
        "import numpy as np\n",
        "from transformers import Trainer, TrainingArguments\n",
        "from transformers import EarlyStoppingCallback\n",
        "from sklearn.model_selection import train_test_split\n",
        "from sklearn.preprocessing import LabelEncoder\n",
        "from sklearn.metrics import f1_score, classification_report\n",
        "from transformers import BertTokenizer, BertForSequenceClassification\n",
        "from tqdm import tqdm\n",
        "import os\n",
        "os.environ[\"WANDB_DISABLED\"] = \"true\""
      ],
      "metadata": {
        "id": "Hm6evgy8Ye-S"
      },
      "execution_count": 10,
      "outputs": []
    },
    {
      "cell_type": "code",
      "source": [
        "import numpy as np\n",
        "import pandas as pd\n",
        "from sklearn.metrics import f1_score, classification_report\n",
        "from sklearn.model_selection import train_test_split\n",
        "from sklearn.preprocessing import LabelEncoder\n",
        "from transformers import BertTokenizer, BertForSequenceClassification\n",
        "from transformers import Trainer, TrainingArguments\n",
        "from transformers import EarlyStoppingCallback\n",
        "import torch\n",
        "from tqdm import tqdm\n",
        "import os\n",
        "os.environ[\"WANDB_DISABLED\"] = \"true\""
      ],
      "metadata": {
        "id": "E9qHM2YxqiTj"
      },
      "execution_count": 53,
      "outputs": []
    },
    {
      "cell_type": "code",
      "source": [
        "def batchTokenizerFetch(tokenizer, dataset):\n",
        "    return tokenizer.batch_encode_plus(dataset,max_length=256,truncation=True,add_special_tokens=True,\n",
        "                                       padding=True,return_attention_mask=True,return_tensors='pt')"
      ],
      "metadata": {
        "id": "TIvYsu2Ph8Bf"
      },
      "execution_count": 27,
      "outputs": []
    },
    {
      "cell_type": "code",
      "source": [
        "class Dataset(torch.utils.data.Dataset):\n",
        "    def __init__(self, encodings, labels):\n",
        "        self.encodings = encodings\n",
        "        self.labels = labels\n",
        "\n",
        "    def __getitem__(self, idx):\n",
        "        item = {key: torch.tensor(val[idx]) for key, val\n",
        "                in self.encodings.items()}\n",
        "        item['labels'] = torch.tensor(self.labels[idx])\n",
        "        return item\n",
        "\n",
        "    def __len__(self):\n",
        "        return len(self.labels)"
      ],
      "metadata": {
        "id": "bcFOEH9NhTEz"
      },
      "execution_count": 60,
      "outputs": []
    },
    {
      "cell_type": "code",
      "source": [
        "def compute_metrics(p):\n",
        "    prediction, labels = p\n",
        "    preds_flat = np.argmax(prediction, axis=1).flatten()\n",
        "    labels_flat = labels.flatten()\n",
        "    f1 = f1_score(labels_flat, preds_flat, average='macro')\n",
        "    return {\"f1\": f1}"
      ],
      "metadata": {
        "id": "TfiZBxPtilvd"
      },
      "execution_count": 45,
      "outputs": []
    },
    {
      "cell_type": "code",
      "source": [
        "import pandas as pd"
      ],
      "metadata": {
        "id": "6MZPVsVG_inv"
      },
      "execution_count": 14,
      "outputs": []
    },
    {
      "cell_type": "code",
      "source": [
        "from google.colab import files\n",
        "uploaded=files.upload()"
      ],
      "metadata": {
        "colab": {
          "base_uri": "https://localhost:8080/",
          "height": 73
        },
        "id": "q9LCL3TgAncE",
        "outputId": "907b4616-04a1-4bc3-c53c-7aac1042c795"
      },
      "execution_count": 9,
      "outputs": [
        {
          "output_type": "display_data",
          "data": {
            "text/plain": [
              "<IPython.core.display.HTML object>"
            ],
            "text/html": [
              "\n",
              "     <input type=\"file\" id=\"files-c46e194e-ce98-4bc7-8f7a-afea3ea8d254\" name=\"files[]\" multiple disabled\n",
              "        style=\"border:none\" />\n",
              "     <output id=\"result-c46e194e-ce98-4bc7-8f7a-afea3ea8d254\">\n",
              "      Upload widget is only available when the cell has been executed in the\n",
              "      current browser session. Please rerun this cell to enable.\n",
              "      </output>\n",
              "      <script>// Copyright 2017 Google LLC\n",
              "//\n",
              "// Licensed under the Apache License, Version 2.0 (the \"License\");\n",
              "// you may not use this file except in compliance with the License.\n",
              "// You may obtain a copy of the License at\n",
              "//\n",
              "//      http://www.apache.org/licenses/LICENSE-2.0\n",
              "//\n",
              "// Unless required by applicable law or agreed to in writing, software\n",
              "// distributed under the License is distributed on an \"AS IS\" BASIS,\n",
              "// WITHOUT WARRANTIES OR CONDITIONS OF ANY KIND, either express or implied.\n",
              "// See the License for the specific language governing permissions and\n",
              "// limitations under the License.\n",
              "\n",
              "/**\n",
              " * @fileoverview Helpers for google.colab Python module.\n",
              " */\n",
              "(function(scope) {\n",
              "function span(text, styleAttributes = {}) {\n",
              "  const element = document.createElement('span');\n",
              "  element.textContent = text;\n",
              "  for (const key of Object.keys(styleAttributes)) {\n",
              "    element.style[key] = styleAttributes[key];\n",
              "  }\n",
              "  return element;\n",
              "}\n",
              "\n",
              "// Max number of bytes which will be uploaded at a time.\n",
              "const MAX_PAYLOAD_SIZE = 100 * 1024;\n",
              "\n",
              "function _uploadFiles(inputId, outputId) {\n",
              "  const steps = uploadFilesStep(inputId, outputId);\n",
              "  const outputElement = document.getElementById(outputId);\n",
              "  // Cache steps on the outputElement to make it available for the next call\n",
              "  // to uploadFilesContinue from Python.\n",
              "  outputElement.steps = steps;\n",
              "\n",
              "  return _uploadFilesContinue(outputId);\n",
              "}\n",
              "\n",
              "// This is roughly an async generator (not supported in the browser yet),\n",
              "// where there are multiple asynchronous steps and the Python side is going\n",
              "// to poll for completion of each step.\n",
              "// This uses a Promise to block the python side on completion of each step,\n",
              "// then passes the result of the previous step as the input to the next step.\n",
              "function _uploadFilesContinue(outputId) {\n",
              "  const outputElement = document.getElementById(outputId);\n",
              "  const steps = outputElement.steps;\n",
              "\n",
              "  const next = steps.next(outputElement.lastPromiseValue);\n",
              "  return Promise.resolve(next.value.promise).then((value) => {\n",
              "    // Cache the last promise value to make it available to the next\n",
              "    // step of the generator.\n",
              "    outputElement.lastPromiseValue = value;\n",
              "    return next.value.response;\n",
              "  });\n",
              "}\n",
              "\n",
              "/**\n",
              " * Generator function which is called between each async step of the upload\n",
              " * process.\n",
              " * @param {string} inputId Element ID of the input file picker element.\n",
              " * @param {string} outputId Element ID of the output display.\n",
              " * @return {!Iterable<!Object>} Iterable of next steps.\n",
              " */\n",
              "function* uploadFilesStep(inputId, outputId) {\n",
              "  const inputElement = document.getElementById(inputId);\n",
              "  inputElement.disabled = false;\n",
              "\n",
              "  const outputElement = document.getElementById(outputId);\n",
              "  outputElement.innerHTML = '';\n",
              "\n",
              "  const pickedPromise = new Promise((resolve) => {\n",
              "    inputElement.addEventListener('change', (e) => {\n",
              "      resolve(e.target.files);\n",
              "    });\n",
              "  });\n",
              "\n",
              "  const cancel = document.createElement('button');\n",
              "  inputElement.parentElement.appendChild(cancel);\n",
              "  cancel.textContent = 'Cancel upload';\n",
              "  const cancelPromise = new Promise((resolve) => {\n",
              "    cancel.onclick = () => {\n",
              "      resolve(null);\n",
              "    };\n",
              "  });\n",
              "\n",
              "  // Wait for the user to pick the files.\n",
              "  const files = yield {\n",
              "    promise: Promise.race([pickedPromise, cancelPromise]),\n",
              "    response: {\n",
              "      action: 'starting',\n",
              "    }\n",
              "  };\n",
              "\n",
              "  cancel.remove();\n",
              "\n",
              "  // Disable the input element since further picks are not allowed.\n",
              "  inputElement.disabled = true;\n",
              "\n",
              "  if (!files) {\n",
              "    return {\n",
              "      response: {\n",
              "        action: 'complete',\n",
              "      }\n",
              "    };\n",
              "  }\n",
              "\n",
              "  for (const file of files) {\n",
              "    const li = document.createElement('li');\n",
              "    li.append(span(file.name, {fontWeight: 'bold'}));\n",
              "    li.append(span(\n",
              "        `(${file.type || 'n/a'}) - ${file.size} bytes, ` +\n",
              "        `last modified: ${\n",
              "            file.lastModifiedDate ? file.lastModifiedDate.toLocaleDateString() :\n",
              "                                    'n/a'} - `));\n",
              "    const percent = span('0% done');\n",
              "    li.appendChild(percent);\n",
              "\n",
              "    outputElement.appendChild(li);\n",
              "\n",
              "    const fileDataPromise = new Promise((resolve) => {\n",
              "      const reader = new FileReader();\n",
              "      reader.onload = (e) => {\n",
              "        resolve(e.target.result);\n",
              "      };\n",
              "      reader.readAsArrayBuffer(file);\n",
              "    });\n",
              "    // Wait for the data to be ready.\n",
              "    let fileData = yield {\n",
              "      promise: fileDataPromise,\n",
              "      response: {\n",
              "        action: 'continue',\n",
              "      }\n",
              "    };\n",
              "\n",
              "    // Use a chunked sending to avoid message size limits. See b/62115660.\n",
              "    let position = 0;\n",
              "    do {\n",
              "      const length = Math.min(fileData.byteLength - position, MAX_PAYLOAD_SIZE);\n",
              "      const chunk = new Uint8Array(fileData, position, length);\n",
              "      position += length;\n",
              "\n",
              "      const base64 = btoa(String.fromCharCode.apply(null, chunk));\n",
              "      yield {\n",
              "        response: {\n",
              "          action: 'append',\n",
              "          file: file.name,\n",
              "          data: base64,\n",
              "        },\n",
              "      };\n",
              "\n",
              "      let percentDone = fileData.byteLength === 0 ?\n",
              "          100 :\n",
              "          Math.round((position / fileData.byteLength) * 100);\n",
              "      percent.textContent = `${percentDone}% done`;\n",
              "\n",
              "    } while (position < fileData.byteLength);\n",
              "  }\n",
              "\n",
              "  // All done.\n",
              "  yield {\n",
              "    response: {\n",
              "      action: 'complete',\n",
              "    }\n",
              "  };\n",
              "}\n",
              "\n",
              "scope.google = scope.google || {};\n",
              "scope.google.colab = scope.google.colab || {};\n",
              "scope.google.colab._files = {\n",
              "  _uploadFiles,\n",
              "  _uploadFilesContinue,\n",
              "};\n",
              "})(self);\n",
              "</script> "
            ]
          },
          "metadata": {}
        },
        {
          "output_type": "stream",
          "name": "stdout",
          "text": [
            "Saving ecommerceDataset.csv to ecommerceDataset.csv\n"
          ]
        }
      ]
    },
    {
      "cell_type": "code",
      "source": [
        "dataset=pd.read_csv('ecommerceDataset.csv')"
      ],
      "metadata": {
        "id": "GMvJEV9ZAS-8"
      },
      "execution_count": 15,
      "outputs": []
    },
    {
      "cell_type": "code",
      "source": [
        "print(dataset.shape)\n",
        "print(dataset.head(5))"
      ],
      "metadata": {
        "colab": {
          "base_uri": "https://localhost:8080/"
        },
        "id": "ErVhtarSFeKC",
        "outputId": "43f9e1c6-01bb-44be-e947-78caa50be861"
      },
      "execution_count": 16,
      "outputs": [
        {
          "output_type": "stream",
          "name": "stdout",
          "text": [
            "(50424, 2)\n",
            "   Household  \\\n",
            "0  Household   \n",
            "1  Household   \n",
            "2  Household   \n",
            "3  Household   \n",
            "4  Household   \n",
            "\n",
            "  Paper Plane Design Framed Wall Hanging Motivational Office Decor Art Prints (8.7 X 8.7 inch) - Set of 4 Painting made up in synthetic frame with uv textured print which gives multi effects and attracts towards it. This is an special series of paintings which makes your wall very beautiful and gives a royal touch. This painting is ready to hang, you would be proud to possess this unique painting that is a niche apart. We use only the most modern and efficient printing technology on our prints, with only the and inks and precision epson, roland and hp printers. This innovative hd printing technique results in durable and spectacular looking prints of the highest that last a lifetime. We print solely with top-notch 100% inks, to achieve brilliant and true colours. Due to their high level of uv resistance, our prints retain their beautiful colours for many years. Add colour and style to your living space with this digitally printed painting. Some are for pleasure and some for eternal bliss.so bring home this elegant print that is lushed with rich colors that makes it nothing but sheer elegance to be to your friends and family.it would be treasured forever by whoever your lucky recipient is. Liven up your place with these intriguing paintings that are high definition hd graphic digital prints for home, office or any room.  \n",
            "0  SAF 'Floral' Framed Painting (Wood, 30 inch x ...                                                                                                                                                                                                                                                                                                                                                                                                                                                                                                                                                                                                                                                                                                                                                                                                                                                                                                                                                                                                                                                                                                                                                                                                                                                                                                                                          \n",
            "1  SAF 'UV Textured Modern Art Print Framed' Pain...                                                                                                                                                                                                                                                                                                                                                                                                                                                                                                                                                                                                                                                                                                                                                                                                                                                                                                                                                                                                                                                                                                                                                                                                                                                                                                                                          \n",
            "2  SAF Flower Print Framed Painting (Synthetic, 1...                                                                                                                                                                                                                                                                                                                                                                                                                                                                                                                                                                                                                                                                                                                                                                                                                                                                                                                                                                                                                                                                                                                                                                                                                                                                                                                                          \n",
            "3  Incredible Gifts India Wooden Happy Birthday U...                                                                                                                                                                                                                                                                                                                                                                                                                                                                                                                                                                                                                                                                                                                                                                                                                                                                                                                                                                                                                                                                                                                                                                                                                                                                                                                                          \n",
            "4  Pitaara Box Romantic Venice Canvas Painting 6m...                                                                                                                                                                                                                                                                                                                                                                                                                                                                                                                                                                                                                                                                                                                                                                                                                                                                                                                                                                                                                                                                                                                                                                                                                                                                                                                                          \n"
          ]
        }
      ]
    },
    {
      "cell_type": "code",
      "source": [
        "from sklearn.preprocessing import LabelEncoder"
      ],
      "metadata": {
        "id": "T6zdLNIcGAU0"
      },
      "execution_count": 17,
      "outputs": []
    },
    {
      "cell_type": "code",
      "source": [
        "df = pd.read_csv('ecommerceDataset.csv', names=[\"labels\", \"descriptions\"])\n",
        "descriptions = df[\"descriptions\"].map(str).values.tolist()\n",
        "labels = df[\"labels\"].values.tolist()\n",
        "\n",
        "le = LabelEncoder()\n",
        "labels = le.fit_transform(labels).tolist()"
      ],
      "metadata": {
        "id": "q2tdCrOdjjfh"
      },
      "execution_count": 18,
      "outputs": []
    },
    {
      "cell_type": "markdown",
      "source": [
        "***Reason behind using BERT:***  \n",
        "**In many natural language problems, BERT outperforms the state-of-the-art by assisting machines in learning excellent representations of text in relation to context.**"
      ],
      "metadata": {
        "id": "7yQpAKx8D1j5"
      }
    },
    {
      "cell_type": "markdown",
      "source": [
        "The BERT architecture builds on top of Transformer. We currently have two variants available:\n",
        "\n",
        "BERT Base: 12 layers (transformer blocks), 12 attention heads, and 110 million parameters\n",
        "                                                   BERT Large: 24 layers (transformer blocks), 16 attention heads and, 340 million parameters. \n",
        "                                                   ![image.png](data:image/png;base64,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)"
      ],
      "metadata": {
        "id": "GpfTZyaVHBpp"
      }
    },
    {
      "cell_type": "markdown",
      "source": [
        "The BERT Base architecture has the same model size as OpenAI’s GPT for comparison purposes. All of these Transformer layers are Encoder-only blocks."
      ],
      "metadata": {
        "id": "T5ukwg0xH-Ph"
      }
    },
    {
      "cell_type": "code",
      "source": [
        "model = BertForSequenceClassification.from_pretrained(\n",
        "    \"bert-base-uncased\",\n",
        "    num_labels=4)\n",
        "device = torch.device(\"cuda\" if torch.cuda.is_available() else \"cpu\")\n",
        "model.to(device)"
      ],
      "metadata": {
        "colab": {
          "base_uri": "https://localhost:8080/"
        },
        "id": "qJMv6uNvGHjF",
        "outputId": "c75eaa1c-c9c2-464b-c6f8-9f3738b1c3b6"
      },
      "execution_count": 20,
      "outputs": [
        {
          "output_type": "stream",
          "name": "stderr",
          "text": [
            "Some weights of the model checkpoint at bert-base-uncased were not used when initializing BertForSequenceClassification: ['cls.seq_relationship.bias', 'cls.predictions.transform.dense.weight', 'cls.predictions.decoder.weight', 'cls.predictions.transform.LayerNorm.bias', 'cls.predictions.transform.LayerNorm.weight', 'cls.seq_relationship.weight', 'cls.predictions.transform.dense.bias', 'cls.predictions.bias']\n",
            "- This IS expected if you are initializing BertForSequenceClassification from the checkpoint of a model trained on another task or with another architecture (e.g. initializing a BertForSequenceClassification model from a BertForPreTraining model).\n",
            "- This IS NOT expected if you are initializing BertForSequenceClassification from the checkpoint of a model that you expect to be exactly identical (initializing a BertForSequenceClassification model from a BertForSequenceClassification model).\n",
            "Some weights of BertForSequenceClassification were not initialized from the model checkpoint at bert-base-uncased and are newly initialized: ['classifier.weight', 'classifier.bias']\n",
            "You should probably TRAIN this model on a down-stream task to be able to use it for predictions and inference.\n"
          ]
        },
        {
          "output_type": "execute_result",
          "data": {
            "text/plain": [
              "BertForSequenceClassification(\n",
              "  (bert): BertModel(\n",
              "    (embeddings): BertEmbeddings(\n",
              "      (word_embeddings): Embedding(30522, 768, padding_idx=0)\n",
              "      (position_embeddings): Embedding(512, 768)\n",
              "      (token_type_embeddings): Embedding(2, 768)\n",
              "      (LayerNorm): LayerNorm((768,), eps=1e-12, elementwise_affine=True)\n",
              "      (dropout): Dropout(p=0.1, inplace=False)\n",
              "    )\n",
              "    (encoder): BertEncoder(\n",
              "      (layer): ModuleList(\n",
              "        (0): BertLayer(\n",
              "          (attention): BertAttention(\n",
              "            (self): BertSelfAttention(\n",
              "              (query): Linear(in_features=768, out_features=768, bias=True)\n",
              "              (key): Linear(in_features=768, out_features=768, bias=True)\n",
              "              (value): Linear(in_features=768, out_features=768, bias=True)\n",
              "              (dropout): Dropout(p=0.1, inplace=False)\n",
              "            )\n",
              "            (output): BertSelfOutput(\n",
              "              (dense): Linear(in_features=768, out_features=768, bias=True)\n",
              "              (LayerNorm): LayerNorm((768,), eps=1e-12, elementwise_affine=True)\n",
              "              (dropout): Dropout(p=0.1, inplace=False)\n",
              "            )\n",
              "          )\n",
              "          (intermediate): BertIntermediate(\n",
              "            (dense): Linear(in_features=768, out_features=3072, bias=True)\n",
              "            (intermediate_act_fn): GELUActivation()\n",
              "          )\n",
              "          (output): BertOutput(\n",
              "            (dense): Linear(in_features=3072, out_features=768, bias=True)\n",
              "            (LayerNorm): LayerNorm((768,), eps=1e-12, elementwise_affine=True)\n",
              "            (dropout): Dropout(p=0.1, inplace=False)\n",
              "          )\n",
              "        )\n",
              "        (1): BertLayer(\n",
              "          (attention): BertAttention(\n",
              "            (self): BertSelfAttention(\n",
              "              (query): Linear(in_features=768, out_features=768, bias=True)\n",
              "              (key): Linear(in_features=768, out_features=768, bias=True)\n",
              "              (value): Linear(in_features=768, out_features=768, bias=True)\n",
              "              (dropout): Dropout(p=0.1, inplace=False)\n",
              "            )\n",
              "            (output): BertSelfOutput(\n",
              "              (dense): Linear(in_features=768, out_features=768, bias=True)\n",
              "              (LayerNorm): LayerNorm((768,), eps=1e-12, elementwise_affine=True)\n",
              "              (dropout): Dropout(p=0.1, inplace=False)\n",
              "            )\n",
              "          )\n",
              "          (intermediate): BertIntermediate(\n",
              "            (dense): Linear(in_features=768, out_features=3072, bias=True)\n",
              "            (intermediate_act_fn): GELUActivation()\n",
              "          )\n",
              "          (output): BertOutput(\n",
              "            (dense): Linear(in_features=3072, out_features=768, bias=True)\n",
              "            (LayerNorm): LayerNorm((768,), eps=1e-12, elementwise_affine=True)\n",
              "            (dropout): Dropout(p=0.1, inplace=False)\n",
              "          )\n",
              "        )\n",
              "        (2): BertLayer(\n",
              "          (attention): BertAttention(\n",
              "            (self): BertSelfAttention(\n",
              "              (query): Linear(in_features=768, out_features=768, bias=True)\n",
              "              (key): Linear(in_features=768, out_features=768, bias=True)\n",
              "              (value): Linear(in_features=768, out_features=768, bias=True)\n",
              "              (dropout): Dropout(p=0.1, inplace=False)\n",
              "            )\n",
              "            (output): BertSelfOutput(\n",
              "              (dense): Linear(in_features=768, out_features=768, bias=True)\n",
              "              (LayerNorm): LayerNorm((768,), eps=1e-12, elementwise_affine=True)\n",
              "              (dropout): Dropout(p=0.1, inplace=False)\n",
              "            )\n",
              "          )\n",
              "          (intermediate): BertIntermediate(\n",
              "            (dense): Linear(in_features=768, out_features=3072, bias=True)\n",
              "            (intermediate_act_fn): GELUActivation()\n",
              "          )\n",
              "          (output): BertOutput(\n",
              "            (dense): Linear(in_features=3072, out_features=768, bias=True)\n",
              "            (LayerNorm): LayerNorm((768,), eps=1e-12, elementwise_affine=True)\n",
              "            (dropout): Dropout(p=0.1, inplace=False)\n",
              "          )\n",
              "        )\n",
              "        (3): BertLayer(\n",
              "          (attention): BertAttention(\n",
              "            (self): BertSelfAttention(\n",
              "              (query): Linear(in_features=768, out_features=768, bias=True)\n",
              "              (key): Linear(in_features=768, out_features=768, bias=True)\n",
              "              (value): Linear(in_features=768, out_features=768, bias=True)\n",
              "              (dropout): Dropout(p=0.1, inplace=False)\n",
              "            )\n",
              "            (output): BertSelfOutput(\n",
              "              (dense): Linear(in_features=768, out_features=768, bias=True)\n",
              "              (LayerNorm): LayerNorm((768,), eps=1e-12, elementwise_affine=True)\n",
              "              (dropout): Dropout(p=0.1, inplace=False)\n",
              "            )\n",
              "          )\n",
              "          (intermediate): BertIntermediate(\n",
              "            (dense): Linear(in_features=768, out_features=3072, bias=True)\n",
              "            (intermediate_act_fn): GELUActivation()\n",
              "          )\n",
              "          (output): BertOutput(\n",
              "            (dense): Linear(in_features=3072, out_features=768, bias=True)\n",
              "            (LayerNorm): LayerNorm((768,), eps=1e-12, elementwise_affine=True)\n",
              "            (dropout): Dropout(p=0.1, inplace=False)\n",
              "          )\n",
              "        )\n",
              "        (4): BertLayer(\n",
              "          (attention): BertAttention(\n",
              "            (self): BertSelfAttention(\n",
              "              (query): Linear(in_features=768, out_features=768, bias=True)\n",
              "              (key): Linear(in_features=768, out_features=768, bias=True)\n",
              "              (value): Linear(in_features=768, out_features=768, bias=True)\n",
              "              (dropout): Dropout(p=0.1, inplace=False)\n",
              "            )\n",
              "            (output): BertSelfOutput(\n",
              "              (dense): Linear(in_features=768, out_features=768, bias=True)\n",
              "              (LayerNorm): LayerNorm((768,), eps=1e-12, elementwise_affine=True)\n",
              "              (dropout): Dropout(p=0.1, inplace=False)\n",
              "            )\n",
              "          )\n",
              "          (intermediate): BertIntermediate(\n",
              "            (dense): Linear(in_features=768, out_features=3072, bias=True)\n",
              "            (intermediate_act_fn): GELUActivation()\n",
              "          )\n",
              "          (output): BertOutput(\n",
              "            (dense): Linear(in_features=3072, out_features=768, bias=True)\n",
              "            (LayerNorm): LayerNorm((768,), eps=1e-12, elementwise_affine=True)\n",
              "            (dropout): Dropout(p=0.1, inplace=False)\n",
              "          )\n",
              "        )\n",
              "        (5): BertLayer(\n",
              "          (attention): BertAttention(\n",
              "            (self): BertSelfAttention(\n",
              "              (query): Linear(in_features=768, out_features=768, bias=True)\n",
              "              (key): Linear(in_features=768, out_features=768, bias=True)\n",
              "              (value): Linear(in_features=768, out_features=768, bias=True)\n",
              "              (dropout): Dropout(p=0.1, inplace=False)\n",
              "            )\n",
              "            (output): BertSelfOutput(\n",
              "              (dense): Linear(in_features=768, out_features=768, bias=True)\n",
              "              (LayerNorm): LayerNorm((768,), eps=1e-12, elementwise_affine=True)\n",
              "              (dropout): Dropout(p=0.1, inplace=False)\n",
              "            )\n",
              "          )\n",
              "          (intermediate): BertIntermediate(\n",
              "            (dense): Linear(in_features=768, out_features=3072, bias=True)\n",
              "            (intermediate_act_fn): GELUActivation()\n",
              "          )\n",
              "          (output): BertOutput(\n",
              "            (dense): Linear(in_features=3072, out_features=768, bias=True)\n",
              "            (LayerNorm): LayerNorm((768,), eps=1e-12, elementwise_affine=True)\n",
              "            (dropout): Dropout(p=0.1, inplace=False)\n",
              "          )\n",
              "        )\n",
              "        (6): BertLayer(\n",
              "          (attention): BertAttention(\n",
              "            (self): BertSelfAttention(\n",
              "              (query): Linear(in_features=768, out_features=768, bias=True)\n",
              "              (key): Linear(in_features=768, out_features=768, bias=True)\n",
              "              (value): Linear(in_features=768, out_features=768, bias=True)\n",
              "              (dropout): Dropout(p=0.1, inplace=False)\n",
              "            )\n",
              "            (output): BertSelfOutput(\n",
              "              (dense): Linear(in_features=768, out_features=768, bias=True)\n",
              "              (LayerNorm): LayerNorm((768,), eps=1e-12, elementwise_affine=True)\n",
              "              (dropout): Dropout(p=0.1, inplace=False)\n",
              "            )\n",
              "          )\n",
              "          (intermediate): BertIntermediate(\n",
              "            (dense): Linear(in_features=768, out_features=3072, bias=True)\n",
              "            (intermediate_act_fn): GELUActivation()\n",
              "          )\n",
              "          (output): BertOutput(\n",
              "            (dense): Linear(in_features=3072, out_features=768, bias=True)\n",
              "            (LayerNorm): LayerNorm((768,), eps=1e-12, elementwise_affine=True)\n",
              "            (dropout): Dropout(p=0.1, inplace=False)\n",
              "          )\n",
              "        )\n",
              "        (7): BertLayer(\n",
              "          (attention): BertAttention(\n",
              "            (self): BertSelfAttention(\n",
              "              (query): Linear(in_features=768, out_features=768, bias=True)\n",
              "              (key): Linear(in_features=768, out_features=768, bias=True)\n",
              "              (value): Linear(in_features=768, out_features=768, bias=True)\n",
              "              (dropout): Dropout(p=0.1, inplace=False)\n",
              "            )\n",
              "            (output): BertSelfOutput(\n",
              "              (dense): Linear(in_features=768, out_features=768, bias=True)\n",
              "              (LayerNorm): LayerNorm((768,), eps=1e-12, elementwise_affine=True)\n",
              "              (dropout): Dropout(p=0.1, inplace=False)\n",
              "            )\n",
              "          )\n",
              "          (intermediate): BertIntermediate(\n",
              "            (dense): Linear(in_features=768, out_features=3072, bias=True)\n",
              "            (intermediate_act_fn): GELUActivation()\n",
              "          )\n",
              "          (output): BertOutput(\n",
              "            (dense): Linear(in_features=3072, out_features=768, bias=True)\n",
              "            (LayerNorm): LayerNorm((768,), eps=1e-12, elementwise_affine=True)\n",
              "            (dropout): Dropout(p=0.1, inplace=False)\n",
              "          )\n",
              "        )\n",
              "        (8): BertLayer(\n",
              "          (attention): BertAttention(\n",
              "            (self): BertSelfAttention(\n",
              "              (query): Linear(in_features=768, out_features=768, bias=True)\n",
              "              (key): Linear(in_features=768, out_features=768, bias=True)\n",
              "              (value): Linear(in_features=768, out_features=768, bias=True)\n",
              "              (dropout): Dropout(p=0.1, inplace=False)\n",
              "            )\n",
              "            (output): BertSelfOutput(\n",
              "              (dense): Linear(in_features=768, out_features=768, bias=True)\n",
              "              (LayerNorm): LayerNorm((768,), eps=1e-12, elementwise_affine=True)\n",
              "              (dropout): Dropout(p=0.1, inplace=False)\n",
              "            )\n",
              "          )\n",
              "          (intermediate): BertIntermediate(\n",
              "            (dense): Linear(in_features=768, out_features=3072, bias=True)\n",
              "            (intermediate_act_fn): GELUActivation()\n",
              "          )\n",
              "          (output): BertOutput(\n",
              "            (dense): Linear(in_features=3072, out_features=768, bias=True)\n",
              "            (LayerNorm): LayerNorm((768,), eps=1e-12, elementwise_affine=True)\n",
              "            (dropout): Dropout(p=0.1, inplace=False)\n",
              "          )\n",
              "        )\n",
              "        (9): BertLayer(\n",
              "          (attention): BertAttention(\n",
              "            (self): BertSelfAttention(\n",
              "              (query): Linear(in_features=768, out_features=768, bias=True)\n",
              "              (key): Linear(in_features=768, out_features=768, bias=True)\n",
              "              (value): Linear(in_features=768, out_features=768, bias=True)\n",
              "              (dropout): Dropout(p=0.1, inplace=False)\n",
              "            )\n",
              "            (output): BertSelfOutput(\n",
              "              (dense): Linear(in_features=768, out_features=768, bias=True)\n",
              "              (LayerNorm): LayerNorm((768,), eps=1e-12, elementwise_affine=True)\n",
              "              (dropout): Dropout(p=0.1, inplace=False)\n",
              "            )\n",
              "          )\n",
              "          (intermediate): BertIntermediate(\n",
              "            (dense): Linear(in_features=768, out_features=3072, bias=True)\n",
              "            (intermediate_act_fn): GELUActivation()\n",
              "          )\n",
              "          (output): BertOutput(\n",
              "            (dense): Linear(in_features=3072, out_features=768, bias=True)\n",
              "            (LayerNorm): LayerNorm((768,), eps=1e-12, elementwise_affine=True)\n",
              "            (dropout): Dropout(p=0.1, inplace=False)\n",
              "          )\n",
              "        )\n",
              "        (10): BertLayer(\n",
              "          (attention): BertAttention(\n",
              "            (self): BertSelfAttention(\n",
              "              (query): Linear(in_features=768, out_features=768, bias=True)\n",
              "              (key): Linear(in_features=768, out_features=768, bias=True)\n",
              "              (value): Linear(in_features=768, out_features=768, bias=True)\n",
              "              (dropout): Dropout(p=0.1, inplace=False)\n",
              "            )\n",
              "            (output): BertSelfOutput(\n",
              "              (dense): Linear(in_features=768, out_features=768, bias=True)\n",
              "              (LayerNorm): LayerNorm((768,), eps=1e-12, elementwise_affine=True)\n",
              "              (dropout): Dropout(p=0.1, inplace=False)\n",
              "            )\n",
              "          )\n",
              "          (intermediate): BertIntermediate(\n",
              "            (dense): Linear(in_features=768, out_features=3072, bias=True)\n",
              "            (intermediate_act_fn): GELUActivation()\n",
              "          )\n",
              "          (output): BertOutput(\n",
              "            (dense): Linear(in_features=3072, out_features=768, bias=True)\n",
              "            (LayerNorm): LayerNorm((768,), eps=1e-12, elementwise_affine=True)\n",
              "            (dropout): Dropout(p=0.1, inplace=False)\n",
              "          )\n",
              "        )\n",
              "        (11): BertLayer(\n",
              "          (attention): BertAttention(\n",
              "            (self): BertSelfAttention(\n",
              "              (query): Linear(in_features=768, out_features=768, bias=True)\n",
              "              (key): Linear(in_features=768, out_features=768, bias=True)\n",
              "              (value): Linear(in_features=768, out_features=768, bias=True)\n",
              "              (dropout): Dropout(p=0.1, inplace=False)\n",
              "            )\n",
              "            (output): BertSelfOutput(\n",
              "              (dense): Linear(in_features=768, out_features=768, bias=True)\n",
              "              (LayerNorm): LayerNorm((768,), eps=1e-12, elementwise_affine=True)\n",
              "              (dropout): Dropout(p=0.1, inplace=False)\n",
              "            )\n",
              "          )\n",
              "          (intermediate): BertIntermediate(\n",
              "            (dense): Linear(in_features=768, out_features=3072, bias=True)\n",
              "            (intermediate_act_fn): GELUActivation()\n",
              "          )\n",
              "          (output): BertOutput(\n",
              "            (dense): Linear(in_features=3072, out_features=768, bias=True)\n",
              "            (LayerNorm): LayerNorm((768,), eps=1e-12, elementwise_affine=True)\n",
              "            (dropout): Dropout(p=0.1, inplace=False)\n",
              "          )\n",
              "        )\n",
              "      )\n",
              "    )\n",
              "    (pooler): BertPooler(\n",
              "      (dense): Linear(in_features=768, out_features=768, bias=True)\n",
              "      (activation): Tanh()\n",
              "    )\n",
              "  )\n",
              "  (dropout): Dropout(p=0.1, inplace=False)\n",
              "  (classifier): Linear(in_features=768, out_features=4, bias=True)\n",
              ")"
            ]
          },
          "metadata": {},
          "execution_count": 20
        }
      ]
    },
    {
      "cell_type": "markdown",
      "source": [
        " **Text Preprocessing of bert**"
      ],
      "metadata": {
        "id": "w0Alsi-mKgBp"
      }
    },
    {
      "cell_type": "markdown",
      "source": [
        "![image.png](data:image/png;base64,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)"
      ],
      "metadata": {
        "id": "GkR6v3tnIg8m"
      }
    },
    {
      "cell_type": "code",
      "source": [
        "tokenizer = BertTokenizer.from_pretrained(\"bert-base-uncased\", do_lower_case=True)"
      ],
      "metadata": {
        "colab": {
          "base_uri": "https://localhost:8080/",
          "height": 81,
          "referenced_widgets": [
            "1e9f1184180f47b38cbdce5afbb8c803",
            "196e6e425585485ab4316e2b46dfaa17",
            "08ba012539c84b9faf179ae04753fa24",
            "e3bfeefbfe0440ef9a8d0c41c8a2a4c2",
            "24bc5d399a964f0c9c25d65e29a06120",
            "b9bf73a2add442fc89041e047f59e381",
            "bd632a3a2b204e1c9e3eb8f99707292a",
            "3682df45752544ca83ea96e88b3e6b8f",
            "3b3ebeebca624ff891c602e49373f5ca",
            "5e3c89dd5c3d4cf39c4a7f5f2a5465f4",
            "9dcf11ece4634c5a977c070007fed2ad",
            "ca787a12bb414df18d05bbd1f3e992e4",
            "c59de33dea394b89bd73fa6c7ae13ac7",
            "0bee826e4d6e47a9b3f04bb56d4d381e",
            "8796eaf3b74f4fc3a19b747ddb0eda0d",
            "050e5ad0f6794cc8b2a4c098125a57e7",
            "1af7ff6ccd494a6f9e8ed33320b270b0",
            "657bec67c015475e91d3b2d64e5a6893",
            "20a451d159b745b19bf2e6ec98d05db6",
            "5194d6e4b0b149b98e61e146bfcf9bab",
            "0c669b1358434e8fa3db9d9e2a0d77ff",
            "4a98196caa5944d0aa493f76c1c4c474"
          ]
        },
        "id": "q6kvRLMcGj6Y",
        "outputId": "b0910494-8f71-44b1-9fb4-06d8a93d2e3c"
      },
      "execution_count": 21,
      "outputs": [
        {
          "output_type": "display_data",
          "data": {
            "text/plain": [
              "Downloading:   0%|          | 0.00/232k [00:00<?, ?B/s]"
            ],
            "application/vnd.jupyter.widget-view+json": {
              "version_major": 2,
              "version_minor": 0,
              "model_id": "1e9f1184180f47b38cbdce5afbb8c803"
            }
          },
          "metadata": {}
        },
        {
          "output_type": "display_data",
          "data": {
            "text/plain": [
              "Downloading:   0%|          | 0.00/28.0 [00:00<?, ?B/s]"
            ],
            "application/vnd.jupyter.widget-view+json": {
              "version_major": 2,
              "version_minor": 0,
              "model_id": "ca787a12bb414df18d05bbd1f3e992e4"
            }
          },
          "metadata": {}
        }
      ]
    },
    {
      "cell_type": "code",
      "source": [
        "x_train, x_test, y_train, y_test = train_test_split(descriptions, labels, test_size=0.4, stratify=labels, random_state=46)\n",
        "x_valid, x_test, y_valid, y_test = train_test_split(x_test, y_test, test_size=0.5, random_state=46)"
      ],
      "metadata": {
        "id": "mzxUbwEoG4Dp"
      },
      "execution_count": 22,
      "outputs": []
    },
    {
      "cell_type": "code",
      "source": [
        "x_train_tokens = batchTokenizerFetch(tokenizer, x_train)\n",
        "x_valid_tokens = batchTokenizerFetch(tokenizer, x_valid)\n",
        "x_test_tokens = batchTokenizerFetch(tokenizer, x_test)"
      ],
      "metadata": {
        "id": "9Ug-Z5lBG_rP"
      },
      "execution_count": 48,
      "outputs": []
    },
    {
      "cell_type": "code",
      "source": [
        "train_dataset = Dataset(x_train_tokens, y_train)\n",
        "valid_dataset = Dataset(x_valid_tokens, y_valid)\n",
        "test_dataset = Dataset(x_test_tokens, y_test)"
      ],
      "metadata": {
        "id": "5O0NNItVHEGB"
      },
      "execution_count": 62,
      "outputs": []
    },
    {
      "cell_type": "code",
      "source": [
        "args = TrainingArguments(output_dir=\"output\", evaluation_strategy=\"epoch\", metric_for_best_model=\"f1\",\n",
        "                          save_strategy=\"epoch\", num_train_epochs=3, load_best_model_at_end=True)"
      ],
      "metadata": {
        "colab": {
          "base_uri": "https://localhost:8080/"
        },
        "id": "TMUxbxvZHPH5",
        "outputId": "03d4995c-557d-4a38-92dd-4c3f74e773a9"
      },
      "execution_count": 63,
      "outputs": [
        {
          "output_type": "stream",
          "name": "stderr",
          "text": [
            "PyTorch: setting up devices\n",
            "The default value for the training argument `--report_to` will change in v5 (from all installed integrations to none). In v5, you will need to use `--report_to all` to get the same behavior as now. You should start updating your code and make this info disappear :-).\n",
            "Using the `WANDB_DISABLED` environment variable is deprecated and will be removed in v5. Use the --report_to flag to control the integrations used for logging result (for instance --report_to none).\n"
          ]
        }
      ]
    },
    {
      "cell_type": "code",
      "source": [
        "trainer = Trainer(args=args,\n",
        "                    model=model,\n",
        "                    train_dataset=train_dataset,\n",
        "                    eval_dataset=valid_dataset,\n",
        "                    compute_metrics=compute_metrics,\n",
        "                    callbacks=[EarlyStoppingCallback(\n",
        "                            early_stopping_patience=3)]\n",
        "                    )"
      ],
      "metadata": {
        "id": "oedf45_nJ6Za"
      },
      "execution_count": 64,
      "outputs": []
    },
    {
      "cell_type": "code",
      "source": [
        "trainer.train()\n",
        "trainer = Trainer(model=model)\n",
        "predictions = trainer.predict(test_dataset)\n",
        "preds = np.argmax(predictions.predictions, axis=1).flatten()\n",
        "true_vals = predictions.label_ids"
      ],
      "metadata": {
        "colab": {
          "base_uri": "https://localhost:8080/",
          "height": 310
        },
        "id": "_inKlhsNnXDO",
        "outputId": "833bdcf5-be9f-4b97-b8cb-1a1100909d02"
      },
      "execution_count": null,
      "outputs": [
        {
          "metadata": {
            "tags": null
          },
          "name": "stderr",
          "output_type": "stream",
          "text": [
            "***** Running training *****\n",
            "  Num examples = 30255\n",
            "  Num Epochs = 3\n",
            "  Instantaneous batch size per device = 8\n",
            "  Total train batch size (w. parallel, distributed & accumulation) = 8\n",
            "  Gradient Accumulation steps = 1\n",
            "  Total optimization steps = 11346\n",
            "/usr/local/lib/python3.7/dist-packages/ipykernel_launcher.py:7: UserWarning: To copy construct from a tensor, it is recommended to use sourceTensor.clone().detach() or sourceTensor.clone().detach().requires_grad_(True), rather than torch.tensor(sourceTensor).\n",
            "  import sys\n"
          ]
        },
        {
          "data": {
            "text/html": [
              "\n",
              "    <div>\n",
              "      \n",
              "      <progress value='313' max='11346' style='width:300px; height:20px; vertical-align: middle;'></progress>\n",
              "      [  313/11346 1:40:46 < 59:34:55, 0.05 it/s, Epoch 0.08/3]\n",
              "    </div>\n",
              "    <table border=\"1\" class=\"dataframe\">\n",
              "  <thead>\n",
              " <tr style=\"text-align: left;\">\n",
              "      <th>Epoch</th>\n",
              "      <th>Training Loss</th>\n",
              "      <th>Validation Loss</th>\n",
              "    </tr>\n",
              "  </thead>\n",
              "  <tbody>\n",
              "  </tbody>\n",
              "</table><p>"
            ],
            "text/plain": [
              "<IPython.core.display.HTML object>"
            ]
          },
          "metadata": {},
          "output_type": "display_data"
        },
        {
          "output_type": "display_data",
          "data": {
            "text/plain": [
              "<IPython.core.display.HTML object>"
            ],
            "text/html": [
              "\n",
              "    <div>\n",
              "      \n",
              "      <progress value='423' max='11346' style='width:300px; height:20px; vertical-align: middle;'></progress>\n",
              "      [  423/11346 2:16:30 < 59:01:58, 0.05 it/s, Epoch 0.11/3]\n",
              "    </div>\n",
              "    <table border=\"1\" class=\"dataframe\">\n",
              "  <thead>\n",
              " <tr style=\"text-align: left;\">\n",
              "      <th>Epoch</th>\n",
              "      <th>Training Loss</th>\n",
              "      <th>Validation Loss</th>\n",
              "    </tr>\n",
              "  </thead>\n",
              "  <tbody>\n",
              "  </tbody>\n",
              "</table><p>"
            ]
          },
          "metadata": {}
        }
      ]
    },
    {
      "cell_type": "code",
      "source": [
        "print(classification_report(true_vals, preds, target_names=list(le.classes_)))"
      ],
      "metadata": {
        "id": "wBH5DURWxreY"
      },
      "execution_count": null,
      "outputs": []
    },
    {
      "cell_type": "markdown",
      "source": [
        "                        precision    recall  f1-score   support\n",
        "\n",
        "                 Books       0.99      0.97      0.98      2335\n",
        "      Clothing & Accessories 0.99      0.98      0.99      1772\n",
        "         Electronics         0.97      0.97      0.97      2111\n",
        "         Household           0.98      0.99      0.98      3867\n",
        "\n",
        "              accuracy                           0.98     10085\n",
        "             macro avg       0.98      0.98      0.98     10085\n",
        "          weighted avg       0.98      0.98      0.98     10085\n"
      ],
      "metadata": {
        "id": "oiayHXyF31rT"
      }
    }
  ]
}